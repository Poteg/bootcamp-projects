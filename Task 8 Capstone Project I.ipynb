{
 "cells": [
  {
   "cell_type": "code",
   "execution_count": 271,
   "id": "8240805b",
   "metadata": {},
   "outputs": [],
   "source": [
    "# import packages \n",
    "import pandas as pd\n",
    "import scipy.io\n",
    "import numpy as np\n",
    " \n",
    "\n",
    "from sklearn.datasets import make_classification\n",
    "from sklearn.model_selection import train_test_split\n",
    "from sklearn.metrics import accuracy_score\n",
    "from sklearn.metrics import f1_score, precision_score, recall_score\n",
    "from sklearn.metrics import confusion_matrix\n",
    "\n",
    "from sklearn.tree import DecisionTreeClassifier\n",
    "from sklearn.ensemble import BaggingClassifier\n",
    "from sklearn.ensemble import RandomForestClassifier\n",
    "from sklearn.ensemble import AdaBoostClassifier\n",
    "\n",
    "import matplotlib.pyplot as plt\n",
    "%matplotlib inline\n",
    "\n",
    "import tensorflow as tf \n"
   ]
  },
  {
   "cell_type": "code",
   "execution_count": 194,
   "id": "b01b4639",
   "metadata": {},
   "outputs": [],
   "source": [
    "from tensorflow.keras.datasets import mnist\n",
    "\n",
    "# load the mnist data \n",
    "mnist = tf.keras.datasets.mnist\n",
    "(X_train, y_train), (X_test,y_test) = mnist.load_data()\n"
   ]
  },
  {
   "cell_type": "markdown",
   "id": "d342333e",
   "metadata": {},
   "source": [
    "# Preprocessing training and test sets "
   ]
  },
  {
   "cell_type": "code",
   "execution_count": 267,
   "id": "bf669cf5",
   "metadata": {},
   "outputs": [],
   "source": [
    "# split data into training and test sets by firstly converting from 4D to 2D array\n",
    "X_train = X_train.reshape(60000,28*28)\n",
    "X_test = X_test.reshape(10000,28*28)"
   ]
  },
  {
   "cell_type": "markdown",
   "id": "be3fbc32",
   "metadata": {},
   "source": [
    "\n",
    "# choose two machine learning algorithms and explain why you chose them \n"
   ]
  },
  {
   "cell_type": "markdown",
   "id": "f702561b",
   "metadata": {},
   "source": [
    "1. Random Forest Classifier, because it is very robust as we need a classifier that will look at the general patterns of the images with numbers and make aggregate predictions on it. \n",
    "\n",
    "\n",
    "\n",
    "2. Bagging Classifier, the mnist data contains images with qualitative labels which will require a method that makes predictions based on majority vote. "
   ]
  },
  {
   "cell_type": "code",
   "execution_count": 219,
   "id": "2ae6664d",
   "metadata": {},
   "outputs": [],
   "source": [
    "############ 1. Random Forest Classifier ############"
   ]
  },
  {
   "cell_type": "markdown",
   "id": "e5328d26",
   "metadata": {},
   "source": [
    "For the Random Forest Classifier, the parameter to tune is max_depth since it drastically affects the accuracy score i.e. when increased, the score also drastically increases."
   ]
  },
  {
   "cell_type": "code",
   "execution_count": 314,
   "id": "c0546874",
   "metadata": {},
   "outputs": [
    {
     "data": {
      "text/plain": [
       "RandomForestClassifier(max_depth=10, n_estimators=6, random_state=42)"
      ]
     },
     "execution_count": 314,
     "metadata": {},
     "output_type": "execute_result"
    }
   ],
   "source": [
    "# Random Forest Classifier \n",
    "\n",
    "rf = RandomForestClassifier(max_depth=10, n_estimators = 6, random_state = 42)\n",
    "rf.fit(X_train,y_train)"
   ]
  },
  {
   "cell_type": "markdown",
   "id": "2c924ffd",
   "metadata": {},
   "source": [
    "Use max_depth=10 for testing the test data because it yields higher accuracy score."
   ]
  },
  {
   "cell_type": "code",
   "execution_count": 315,
   "id": "eae59e31",
   "metadata": {},
   "outputs": [
    {
     "name": "stdout",
     "output_type": "stream",
     "text": [
      "Accuracy: 0.9122\n"
     ]
    }
   ],
   "source": [
    "# Accuracy score\n",
    "preds = rf.predict(X_test)\n",
    "print('Accuracy:',accuracy_score(y_test,preds))"
   ]
  },
  {
   "cell_type": "code",
   "execution_count": 316,
   "id": "0faf55bf",
   "metadata": {},
   "outputs": [
    {
     "name": "stdout",
     "output_type": "stream",
     "text": [
      "confusion matrix:\n"
     ]
    },
    {
     "data": {
      "text/html": [
       "<div>\n",
       "<style scoped>\n",
       "    .dataframe tbody tr th:only-of-type {\n",
       "        vertical-align: middle;\n",
       "    }\n",
       "\n",
       "    .dataframe tbody tr th {\n",
       "        vertical-align: top;\n",
       "    }\n",
       "\n",
       "    .dataframe thead th {\n",
       "        text-align: right;\n",
       "    }\n",
       "</style>\n",
       "<table border=\"1\" class=\"dataframe\">\n",
       "  <thead>\n",
       "    <tr style=\"text-align: right;\">\n",
       "      <th></th>\n",
       "      <th>0</th>\n",
       "      <th>1</th>\n",
       "      <th>2</th>\n",
       "      <th>3</th>\n",
       "      <th>4</th>\n",
       "      <th>5</th>\n",
       "      <th>6</th>\n",
       "      <th>7</th>\n",
       "      <th>8</th>\n",
       "      <th>9</th>\n",
       "    </tr>\n",
       "  </thead>\n",
       "  <tbody>\n",
       "    <tr>\n",
       "      <th>0</th>\n",
       "      <td>960</td>\n",
       "      <td>0</td>\n",
       "      <td>1</td>\n",
       "      <td>1</td>\n",
       "      <td>0</td>\n",
       "      <td>4</td>\n",
       "      <td>4</td>\n",
       "      <td>1</td>\n",
       "      <td>8</td>\n",
       "      <td>1</td>\n",
       "    </tr>\n",
       "    <tr>\n",
       "      <th>1</th>\n",
       "      <td>0</td>\n",
       "      <td>1114</td>\n",
       "      <td>6</td>\n",
       "      <td>3</td>\n",
       "      <td>0</td>\n",
       "      <td>1</td>\n",
       "      <td>4</td>\n",
       "      <td>0</td>\n",
       "      <td>6</td>\n",
       "      <td>1</td>\n",
       "    </tr>\n",
       "    <tr>\n",
       "      <th>2</th>\n",
       "      <td>12</td>\n",
       "      <td>1</td>\n",
       "      <td>939</td>\n",
       "      <td>13</td>\n",
       "      <td>9</td>\n",
       "      <td>4</td>\n",
       "      <td>14</td>\n",
       "      <td>15</td>\n",
       "      <td>17</td>\n",
       "      <td>8</td>\n",
       "    </tr>\n",
       "    <tr>\n",
       "      <th>3</th>\n",
       "      <td>5</td>\n",
       "      <td>1</td>\n",
       "      <td>18</td>\n",
       "      <td>884</td>\n",
       "      <td>1</td>\n",
       "      <td>36</td>\n",
       "      <td>4</td>\n",
       "      <td>13</td>\n",
       "      <td>34</td>\n",
       "      <td>14</td>\n",
       "    </tr>\n",
       "    <tr>\n",
       "      <th>4</th>\n",
       "      <td>3</td>\n",
       "      <td>2</td>\n",
       "      <td>3</td>\n",
       "      <td>2</td>\n",
       "      <td>873</td>\n",
       "      <td>4</td>\n",
       "      <td>14</td>\n",
       "      <td>2</td>\n",
       "      <td>14</td>\n",
       "      <td>65</td>\n",
       "    </tr>\n",
       "    <tr>\n",
       "      <th>5</th>\n",
       "      <td>15</td>\n",
       "      <td>5</td>\n",
       "      <td>5</td>\n",
       "      <td>46</td>\n",
       "      <td>8</td>\n",
       "      <td>770</td>\n",
       "      <td>16</td>\n",
       "      <td>5</td>\n",
       "      <td>10</td>\n",
       "      <td>12</td>\n",
       "    </tr>\n",
       "    <tr>\n",
       "      <th>6</th>\n",
       "      <td>13</td>\n",
       "      <td>3</td>\n",
       "      <td>3</td>\n",
       "      <td>1</td>\n",
       "      <td>15</td>\n",
       "      <td>16</td>\n",
       "      <td>898</td>\n",
       "      <td>1</td>\n",
       "      <td>7</td>\n",
       "      <td>1</td>\n",
       "    </tr>\n",
       "    <tr>\n",
       "      <th>7</th>\n",
       "      <td>1</td>\n",
       "      <td>13</td>\n",
       "      <td>29</td>\n",
       "      <td>4</td>\n",
       "      <td>5</td>\n",
       "      <td>1</td>\n",
       "      <td>0</td>\n",
       "      <td>932</td>\n",
       "      <td>6</td>\n",
       "      <td>37</td>\n",
       "    </tr>\n",
       "    <tr>\n",
       "      <th>8</th>\n",
       "      <td>6</td>\n",
       "      <td>3</td>\n",
       "      <td>12</td>\n",
       "      <td>30</td>\n",
       "      <td>14</td>\n",
       "      <td>19</td>\n",
       "      <td>9</td>\n",
       "      <td>11</td>\n",
       "      <td>840</td>\n",
       "      <td>30</td>\n",
       "    </tr>\n",
       "    <tr>\n",
       "      <th>9</th>\n",
       "      <td>6</td>\n",
       "      <td>5</td>\n",
       "      <td>7</td>\n",
       "      <td>14</td>\n",
       "      <td>33</td>\n",
       "      <td>4</td>\n",
       "      <td>0</td>\n",
       "      <td>15</td>\n",
       "      <td>13</td>\n",
       "      <td>912</td>\n",
       "    </tr>\n",
       "  </tbody>\n",
       "</table>\n",
       "</div>"
      ],
      "text/plain": [
       "     0     1    2    3    4    5    6    7    8    9\n",
       "0  960     0    1    1    0    4    4    1    8    1\n",
       "1    0  1114    6    3    0    1    4    0    6    1\n",
       "2   12     1  939   13    9    4   14   15   17    8\n",
       "3    5     1   18  884    1   36    4   13   34   14\n",
       "4    3     2    3    2  873    4   14    2   14   65\n",
       "5   15     5    5   46    8  770   16    5   10   12\n",
       "6   13     3    3    1   15   16  898    1    7    1\n",
       "7    1    13   29    4    5    1    0  932    6   37\n",
       "8    6     3   12   30   14   19    9   11  840   30\n",
       "9    6     5    7   14   33    4    0   15   13  912"
      ]
     },
     "execution_count": 316,
     "metadata": {},
     "output_type": "execute_result"
    }
   ],
   "source": [
    "#confusion matrix\n",
    "\n",
    "conf_mat = confusion_matrix(y_test, preds)\n",
    "cm_df = pd.DataFrame(conf_mat)\n",
    "print('confusion matrix:')\n",
    "cm_df"
   ]
  },
  {
   "cell_type": "markdown",
   "id": "ae2290bb",
   "metadata": {},
   "source": [
    "The confusion matrix suggests that the model struggled with predicting the images of label/class 8. By using the f1_score below, will determine which class the model struggled on. "
   ]
  },
  {
   "cell_type": "code",
   "execution_count": 327,
   "id": "6bc3422e",
   "metadata": {},
   "outputs": [
    {
     "name": "stdout",
     "output_type": "stream",
     "text": [
      "f1_score: 0.9122000000000001\n",
      "Hardest class: 0      8\n",
      "1      6\n",
      "2     17\n",
      "3     34\n",
      "4     14\n",
      "5     10\n",
      "6      7\n",
      "7      6\n",
      "8    840\n",
      "9     13\n",
      "Name: 8, dtype: int64\n"
     ]
    }
   ],
   "source": [
    "# average f1 score\n",
    "\n",
    "av_f1 = f1_score(y_test,preds, average = 'micro')\n",
    "print('f1_score:',av_f1)\n",
    "\n",
    "# f1 score per class\n",
    "f = f1_score(y_test, preds, average=None)\n",
    "lowest_score = min(f)\n",
    "hardest_class = cm_df[list(f).index(lowest_score)]\n",
    "print('Hardest class:', hardest_class)"
   ]
  },
  {
   "cell_type": "markdown",
   "id": "1270946a",
   "metadata": {},
   "source": [
    "The f1_score per class/ label suggests that the model struggled with class 8 which can be seen from the confusion matrix. "
   ]
  },
  {
   "cell_type": "code",
   "execution_count": 328,
   "id": "6c6c14f5",
   "metadata": {},
   "outputs": [
    {
     "name": "stdout",
     "output_type": "stream",
     "text": [
      "Precision: 0.9122\n",
      "Recall: 0.9122\n"
     ]
    }
   ],
   "source": [
    "# precision and recall\n",
    "\n",
    "prec = precision_score(y_test, preds, average = 'micro')\n",
    "rec = recall_score(y_test, preds, average = 'weighted')\n",
    "\n",
    "print('Precision:', prec)\n",
    "print('Recall:', rec)\n"
   ]
  },
  {
   "cell_type": "code",
   "execution_count": 329,
   "id": "d27ac98e",
   "metadata": {},
   "outputs": [],
   "source": [
    "############################## 2. Bagging Classifier ####################"
   ]
  },
  {
   "cell_type": "code",
   "execution_count": 330,
   "id": "2e78ca56",
   "metadata": {},
   "outputs": [
    {
     "data": {
      "text/plain": [
       "BaggingClassifier(base_estimator=DecisionTreeClassifier(), max_samples=0.5,\n",
       "                  random_state=42)"
      ]
     },
     "execution_count": 330,
     "metadata": {},
     "output_type": "execute_result"
    }
   ],
   "source": [
    "bg = BaggingClassifier(DecisionTreeClassifier(),max_samples = 0.5,random_state = 42)\n",
    "bg.fit(X_train,y_train)\n"
   ]
  },
  {
   "cell_type": "markdown",
   "id": "e8b2e903",
   "metadata": {},
   "source": [
    "Use max_samples = 0.5 for testing data since it takes longer to run the model on full size. "
   ]
  },
  {
   "cell_type": "code",
   "execution_count": 331,
   "id": "222bf337",
   "metadata": {},
   "outputs": [
    {
     "name": "stdout",
     "output_type": "stream",
     "text": [
      "Accuracy: 0.9365\n"
     ]
    }
   ],
   "source": [
    "# Accuracy score\n",
    "preds = bg.predict(X_test)\n",
    "print('Accuracy:',accuracy_score(y_test,preds))"
   ]
  },
  {
   "cell_type": "code",
   "execution_count": 332,
   "id": "10d1f67e",
   "metadata": {},
   "outputs": [
    {
     "name": "stdout",
     "output_type": "stream",
     "text": [
      "confusion matrix:\n"
     ]
    },
    {
     "data": {
      "text/html": [
       "<div>\n",
       "<style scoped>\n",
       "    .dataframe tbody tr th:only-of-type {\n",
       "        vertical-align: middle;\n",
       "    }\n",
       "\n",
       "    .dataframe tbody tr th {\n",
       "        vertical-align: top;\n",
       "    }\n",
       "\n",
       "    .dataframe thead th {\n",
       "        text-align: right;\n",
       "    }\n",
       "</style>\n",
       "<table border=\"1\" class=\"dataframe\">\n",
       "  <thead>\n",
       "    <tr style=\"text-align: right;\">\n",
       "      <th></th>\n",
       "      <th>0</th>\n",
       "      <th>1</th>\n",
       "      <th>2</th>\n",
       "      <th>3</th>\n",
       "      <th>4</th>\n",
       "      <th>5</th>\n",
       "      <th>6</th>\n",
       "      <th>7</th>\n",
       "      <th>8</th>\n",
       "      <th>9</th>\n",
       "    </tr>\n",
       "  </thead>\n",
       "  <tbody>\n",
       "    <tr>\n",
       "      <th>0</th>\n",
       "      <td>961</td>\n",
       "      <td>0</td>\n",
       "      <td>3</td>\n",
       "      <td>0</td>\n",
       "      <td>2</td>\n",
       "      <td>8</td>\n",
       "      <td>0</td>\n",
       "      <td>3</td>\n",
       "      <td>2</td>\n",
       "      <td>1</td>\n",
       "    </tr>\n",
       "    <tr>\n",
       "      <th>1</th>\n",
       "      <td>0</td>\n",
       "      <td>1118</td>\n",
       "      <td>6</td>\n",
       "      <td>4</td>\n",
       "      <td>0</td>\n",
       "      <td>1</td>\n",
       "      <td>5</td>\n",
       "      <td>0</td>\n",
       "      <td>1</td>\n",
       "      <td>0</td>\n",
       "    </tr>\n",
       "    <tr>\n",
       "      <th>2</th>\n",
       "      <td>13</td>\n",
       "      <td>5</td>\n",
       "      <td>967</td>\n",
       "      <td>13</td>\n",
       "      <td>7</td>\n",
       "      <td>0</td>\n",
       "      <td>4</td>\n",
       "      <td>13</td>\n",
       "      <td>7</td>\n",
       "      <td>3</td>\n",
       "    </tr>\n",
       "    <tr>\n",
       "      <th>3</th>\n",
       "      <td>5</td>\n",
       "      <td>1</td>\n",
       "      <td>24</td>\n",
       "      <td>925</td>\n",
       "      <td>0</td>\n",
       "      <td>27</td>\n",
       "      <td>2</td>\n",
       "      <td>11</td>\n",
       "      <td>13</td>\n",
       "      <td>2</td>\n",
       "    </tr>\n",
       "    <tr>\n",
       "      <th>4</th>\n",
       "      <td>5</td>\n",
       "      <td>5</td>\n",
       "      <td>2</td>\n",
       "      <td>4</td>\n",
       "      <td>921</td>\n",
       "      <td>1</td>\n",
       "      <td>9</td>\n",
       "      <td>2</td>\n",
       "      <td>5</td>\n",
       "      <td>28</td>\n",
       "    </tr>\n",
       "    <tr>\n",
       "      <th>5</th>\n",
       "      <td>15</td>\n",
       "      <td>3</td>\n",
       "      <td>3</td>\n",
       "      <td>27</td>\n",
       "      <td>6</td>\n",
       "      <td>815</td>\n",
       "      <td>8</td>\n",
       "      <td>3</td>\n",
       "      <td>6</td>\n",
       "      <td>6</td>\n",
       "    </tr>\n",
       "    <tr>\n",
       "      <th>6</th>\n",
       "      <td>16</td>\n",
       "      <td>1</td>\n",
       "      <td>7</td>\n",
       "      <td>3</td>\n",
       "      <td>12</td>\n",
       "      <td>11</td>\n",
       "      <td>902</td>\n",
       "      <td>1</td>\n",
       "      <td>5</td>\n",
       "      <td>0</td>\n",
       "    </tr>\n",
       "    <tr>\n",
       "      <th>7</th>\n",
       "      <td>1</td>\n",
       "      <td>8</td>\n",
       "      <td>22</td>\n",
       "      <td>13</td>\n",
       "      <td>3</td>\n",
       "      <td>3</td>\n",
       "      <td>0</td>\n",
       "      <td>967</td>\n",
       "      <td>3</td>\n",
       "      <td>8</td>\n",
       "    </tr>\n",
       "    <tr>\n",
       "      <th>8</th>\n",
       "      <td>8</td>\n",
       "      <td>4</td>\n",
       "      <td>20</td>\n",
       "      <td>21</td>\n",
       "      <td>8</td>\n",
       "      <td>14</td>\n",
       "      <td>15</td>\n",
       "      <td>5</td>\n",
       "      <td>861</td>\n",
       "      <td>18</td>\n",
       "    </tr>\n",
       "    <tr>\n",
       "      <th>9</th>\n",
       "      <td>8</td>\n",
       "      <td>9</td>\n",
       "      <td>6</td>\n",
       "      <td>13</td>\n",
       "      <td>20</td>\n",
       "      <td>7</td>\n",
       "      <td>2</td>\n",
       "      <td>10</td>\n",
       "      <td>6</td>\n",
       "      <td>928</td>\n",
       "    </tr>\n",
       "  </tbody>\n",
       "</table>\n",
       "</div>"
      ],
      "text/plain": [
       "     0     1    2    3    4    5    6    7    8    9\n",
       "0  961     0    3    0    2    8    0    3    2    1\n",
       "1    0  1118    6    4    0    1    5    0    1    0\n",
       "2   13     5  967   13    7    0    4   13    7    3\n",
       "3    5     1   24  925    0   27    2   11   13    2\n",
       "4    5     5    2    4  921    1    9    2    5   28\n",
       "5   15     3    3   27    6  815    8    3    6    6\n",
       "6   16     1    7    3   12   11  902    1    5    0\n",
       "7    1     8   22   13    3    3    0  967    3    8\n",
       "8    8     4   20   21    8   14   15    5  861   18\n",
       "9    8     9    6   13   20    7    2   10    6  928"
      ]
     },
     "execution_count": 332,
     "metadata": {},
     "output_type": "execute_result"
    }
   ],
   "source": [
    "#confusion matrix\n",
    "\n",
    "conf_mat = confusion_matrix(y_test, preds)\n",
    "cm_df = pd.DataFrame(conf_mat)\n",
    "print('confusion matrix:')\n",
    "cm_df"
   ]
  },
  {
   "cell_type": "markdown",
   "id": "87805a0a",
   "metadata": {},
   "source": [
    "The confusion matrix suggests that the model struggled with predicting the images of label/class 3. By using the f1_score below, will determine which class the model struggled on. "
   ]
  },
  {
   "cell_type": "code",
   "execution_count": 334,
   "id": "db43bdab",
   "metadata": {},
   "outputs": [
    {
     "name": "stdout",
     "output_type": "stream",
     "text": [
      "f1_score: 0.9365\n",
      "Hardest class: 0      0\n",
      "1      4\n",
      "2     13\n",
      "3    925\n",
      "4      4\n",
      "5     27\n",
      "6      3\n",
      "7     13\n",
      "8     21\n",
      "9     13\n",
      "Name: 3, dtype: int64\n"
     ]
    }
   ],
   "source": [
    "# average f1 score\n",
    "\n",
    "av_f1 = f1_score(y_test,preds, average = 'micro')\n",
    "print('f1_score:',av_f1)\n",
    "\n",
    "# f1 score per class\n",
    "f = f1_score(y_test, preds, average=None)\n",
    "lowest_score = min(f)\n",
    "hardest_class = cm_df[list(f).index(lowest_score)]\n",
    "print('Hardest class:', hardest_class)"
   ]
  },
  {
   "cell_type": "markdown",
   "id": "15a2659e",
   "metadata": {},
   "source": [
    "The f1_score per class/ label suggests that the model struggled with class 3 which can be seen from the confusion matrix. "
   ]
  },
  {
   "cell_type": "code",
   "execution_count": 335,
   "id": "000ffe3b",
   "metadata": {},
   "outputs": [
    {
     "name": "stdout",
     "output_type": "stream",
     "text": [
      "Precision: 0.9365\n",
      "Recall: 0.9365\n"
     ]
    }
   ],
   "source": [
    "# precision and recall\n",
    "\n",
    "prec = precision_score(y_test, preds, average = 'micro')\n",
    "rec = recall_score(y_test, preds, average = 'weighted')\n",
    "\n",
    "print('Precision:', prec)\n",
    "print('Recall:', rec)"
   ]
  },
  {
   "cell_type": "markdown",
   "id": "e5eaa815",
   "metadata": {},
   "source": [
    "# Comment on the differences in model performances "
   ]
  },
  {
   "cell_type": "markdown",
   "id": "0ccf6db6",
   "metadata": {},
   "source": [
    "The Bagging Classifier model performed better than the Random Forest Classifier.\n",
    "\n",
    "The accuracy of bagging model was 2.43% more than that of Random Forest Model. \n",
    "\n",
    "The f1_score,precision and recall for bagging model was higher than Random Forest Model.\n",
    "\n",
    "The bagging model was more accurate than the forest model but also the Forest model predictions were very well on point.\n",
    "\n",
    "Overall, the Bagging Classsifier did the best job. "
   ]
  },
  {
   "cell_type": "code",
   "execution_count": null,
   "id": "2d973a38",
   "metadata": {},
   "outputs": [],
   "source": []
  }
 ],
 "metadata": {
  "kernelspec": {
   "display_name": "Python 3 (ipykernel)",
   "language": "python",
   "name": "python3"
  },
  "language_info": {
   "codemirror_mode": {
    "name": "ipython",
    "version": 3
   },
   "file_extension": ".py",
   "mimetype": "text/x-python",
   "name": "python",
   "nbconvert_exporter": "python",
   "pygments_lexer": "ipython3",
   "version": "3.7.0"
  }
 },
 "nbformat": 4,
 "nbformat_minor": 5
}
